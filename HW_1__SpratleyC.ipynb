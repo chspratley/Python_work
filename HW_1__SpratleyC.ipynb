{
  "nbformat": 4,
  "nbformat_minor": 0,
  "metadata": {
    "colab": {
      "provenance": []
    },
    "kernelspec": {
      "name": "python3",
      "display_name": "Python 3"
    },
    "language_info": {
      "name": "python"
    }
  },
  "cells": [
    {
      "cell_type": "markdown",
      "source": [
        "**Cedric Spratley_hw1_programming_python_basics_DSC 500 Machine Learning**"
      ],
      "metadata": {
        "id": "6G5Y1Q08HGvz"
      }
    },
    {
      "cell_type": "code",
      "source": [
        "#import libraries\n",
        "import pandas as pd\n",
        "import matplotlib.pyplot as plt\n"
      ],
      "metadata": {
        "id": "xE-Y0yCrrWJr"
      },
      "execution_count": null,
      "outputs": []
    },
    {
      "cell_type": "markdown",
      "source": [
        "**TODO - Add new column called \"Occupation\". The list of Occupations should correspond to an Engineer, Artist, Musician, and Politician**"
      ],
      "metadata": {
        "id": "Uhk-61l139rE"
      }
    },
    {
      "cell_type": "code",
      "source": [
        "#Populating data to create a dictionary structure\n",
        "data = {'Name': ['Alice', 'Bob', 'Charlie', 'David'],\n",
        "        'Age':[24, 30, 22, 35],\n",
        "        'City':['New York', 'Los Angeles', 'Chicago', 'Washingtion D.C.'],\n",
        "        'Occupation': ['Engineer','Artist', 'Musician','Politician']}\n"
      ],
      "metadata": {
        "id": "FWHhO-WEs1sD"
      },
      "execution_count": null,
      "outputs": []
    },
    {
      "cell_type": "code",
      "source": [
        "#Save the data into a dataframe\n",
        "df = pd.DataFrame(data)\n",
        "print(\"df is a pandas dataframe:\\n\", df)"
      ],
      "metadata": {
        "id": "pNW7UDaCuulv"
      },
      "execution_count": null,
      "outputs": []
    },
    {
      "cell_type": "code",
      "source": [
        "#Basic pandas operations, Print first 5 rows\n",
        "print(\"\\n dataframe Head:\\n\", df.head())"
      ],
      "metadata": {
        "id": "jN8Clp7pvWxb"
      },
      "execution_count": null,
      "outputs": []
    },
    {
      "cell_type": "code",
      "source": [
        "#Basic pandas operations, Print df information\n",
        "print(\"n\\ dataframe Info;\\n\", df.info())"
      ],
      "metadata": {
        "id": "rm8Mp5TDv2gR"
      },
      "execution_count": null,
      "outputs": []
    },
    {
      "cell_type": "code",
      "source": [
        "#Print only the age column\n",
        "print(\"\\nSelecting 'Age' column:\\n\", df['Age'])"
      ],
      "metadata": {
        "id": "JjaugMwPwMjD"
      },
      "execution_count": null,
      "outputs": []
    },
    {
      "cell_type": "markdown",
      "source": [
        "**TODO - Print the occupation column**"
      ],
      "metadata": {
        "id": "H-bJAV_030YQ"
      }
    },
    {
      "cell_type": "code",
      "source": [
        "#Print only the occupation column\n",
        "print (\"\\nSelecting 'Occupation' column:\\n\", df['Occupation'])"
      ],
      "metadata": {
        "id": "sG-3SG_nwkBn"
      },
      "execution_count": null,
      "outputs": []
    },
    {
      "cell_type": "code",
      "source": [
        "#Filtering rows\n",
        "filtered_df = df[df['Age'] > 25]\n",
        "print (\"\\nRows where Age > 25:\\n\", filtered_df)"
      ],
      "metadata": {
        "id": "1qEhYBiwwMhq"
      },
      "execution_count": null,
      "outputs": []
    },
    {
      "cell_type": "markdown",
      "source": [
        "**TODO - Get the name and occupation of the second person in the list, and print**"
      ],
      "metadata": {
        "id": "jJDy9djt2_-O"
      }
    },
    {
      "cell_type": "code",
      "source": [
        "#Print name and occupation and drop passed columns and indexed rows\n",
        "print (df.drop(columns=['Age', 'City'], index=[0,2,3]))\n"
      ],
      "metadata": {
        "id": "OQrGxZ6Cm0uD"
      },
      "execution_count": null,
      "outputs": []
    },
    {
      "cell_type": "code",
      "source": [
        "#Load dataset\n",
        "dataset = \"web_traffic.tsv\"\n",
        "traffic_df = pd.read_csv(dataset, delimiter=\"\\t\", header = None)\n"
      ],
      "metadata": {
        "id": "3DxwSoNuwkWd"
      },
      "execution_count": null,
      "outputs": []
    },
    {
      "cell_type": "code",
      "source": [
        "#Print first few rows\n",
        "print(\"The first 5 rows in the dataset:\\n\", traffic_df.head())"
      ],
      "metadata": {
        "id": "ycjORtJkxkxp"
      },
      "execution_count": null,
      "outputs": []
    },
    {
      "cell_type": "code",
      "source": [
        "#Display column names\n",
        "print(\"Before cleaning up the column names:\", traffic_df.columns)"
      ],
      "metadata": {
        "id": "smgRdFMjxTZO"
      },
      "execution_count": null,
      "outputs": []
    },
    {
      "cell_type": "code",
      "source": [
        "#Strip any leading/trailing whitespace from column names\n",
        "traffic_df.columns = traffic_df.columns.astype(str).str.strip()\n",
        "\n",
        "#Rename column names\n",
        "traffic_df.columns = ['Index', 'Value']\n",
        "\n",
        "#Print the new column names\n",
        "print(\"After cleaning up the column names:\", traffic_df.columns)"
      ],
      "metadata": {
        "id": "jzqFc3eMyKXo"
      },
      "execution_count": null,
      "outputs": []
    },
    {
      "cell_type": "code",
      "source": [
        "#Clean the dataset, remove NaN\n",
        "traffic_df['Value'] = traffic_df['Value'].fillna(traffic_df['Value'].mean())\n",
        "\n",
        "print(\"\\nDataFrame after replacing NaN values:\\n\", traffic_df.head())"
      ],
      "metadata": {
        "id": "9IAGMWQaz7mm"
      },
      "execution_count": null,
      "outputs": []
    },
    {
      "cell_type": "code",
      "source": [
        "#Display how many rows and columns are in the dataset\n",
        "traffic_df.shape"
      ],
      "metadata": {
        "id": "hv1KYBFn0bFY"
      },
      "execution_count": null,
      "outputs": []
    },
    {
      "cell_type": "markdown",
      "source": [
        "**TODO - Print the num_rows and num_columns, clearly indicate each one**"
      ],
      "metadata": {
        "id": "qCKpJ0xP3khV"
      }
    },
    {
      "cell_type": "code",
      "source": [
        "#Save the number of rows and columns\n",
        "num_rows, num_columns = traffic_df.shape\n",
        "\n",
        "#Print the value for num_rows and num_columns\n",
        "print(\"Number of rows:\", num_rows)\n",
        "print(\"Number of columns:\", num_columns)"
      ],
      "metadata": {
        "id": "GXELTFvF0mYG"
      },
      "execution_count": null,
      "outputs": []
    },
    {
      "cell_type": "code",
      "source": [
        "#Rename the columns\n",
        "traffic_df.columns = ['Index', 'Value']\n",
        "\n",
        "#Plot Dataset\n",
        "plt.figure(figsize=(8,5))\n",
        "plt.plot(traffic_df['Index'], traffic_df['Value'], marker='o', linestyle='-', color='b', label='Value')\n",
        "plt.xlabel('Index')\n",
        "plt.ylabel('Value')\n",
        "plt.title('Web Traffic Over Time')\n",
        "plt.grid(True)\n",
        "plt.legend()\n",
        "plt.show()"
      ],
      "metadata": {
        "id": "5TOHnGgA09vR"
      },
      "execution_count": null,
      "outputs": []
    },
    {
      "cell_type": "code",
      "source": [],
      "metadata": {
        "id": "Y11jLIqR0bD-"
      },
      "execution_count": null,
      "outputs": []
    }
  ]
}