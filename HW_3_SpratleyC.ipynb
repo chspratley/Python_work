{
  "nbformat": 4,
  "nbformat_minor": 0,
  "metadata": {
    "colab": {
      "provenance": [],
      "authorship_tag": "ABX9TyOTuiyKn9temvZp1VB44ko2"
    },
    "kernelspec": {
      "name": "python3",
      "display_name": "Python 3"
    },
    "language_info": {
      "name": "python"
    }
  },
  "cells": [
    {
      "cell_type": "markdown",
      "source": [
        "Cedric Spratley_hw3_Programming_Gradient_Descent_DSC 500 Machine Learning"
      ],
      "metadata": {
        "id": "M0vVxK4IoQU1"
      }
    },
    {
      "cell_type": "code",
      "source": [],
      "metadata": {
        "id": "GYceeBczM22a"
      },
      "execution_count": null,
      "outputs": []
    },
    {
      "cell_type": "code",
      "source": [
        "#1: Print out what this cell is doing\n",
        "\n",
        "# Import libraries into Python code\n",
        "import matplotlib.pyplot as plt\n",
        "import numpy as np\n",
        "\n",
        "print(\"This function is importing the MatPlotLib and NumPy libraries into my Python code.\")"
      ],
      "metadata": {
        "id": "m4tAlqGnozUW",
        "colab": {
          "base_uri": "https://localhost:8080/"
        },
        "outputId": "46347b28-665b-4ce1-db8a-fe4b953a41eb"
      },
      "execution_count": null,
      "outputs": [
        {
          "output_type": "stream",
          "name": "stdout",
          "text": [
            "This function is importing the MatPlotLib and NumPy libraries into my Python code.\n"
          ]
        }
      ]
    },
    {
      "cell_type": "code",
      "execution_count": null,
      "metadata": {
        "id": "lPRBcjmDnudA"
      },
      "outputs": [],
      "source": [
        "#2: Rename this function to describe its purpose\n",
        "\n",
        "def quadraticFunc(x):\n",
        "  return (x * x) ** (1 / 1)"
      ]
    },
    {
      "cell_type": "code",
      "source": [
        "#3: Rename this function to describe its purpose(because the quadratic funciton is a univariate function,\n",
        "#   the gradient function below is used)\n",
        "\n",
        "def gradientComponent(x):\n",
        "  return sum([x for _ in range(2)])"
      ],
      "metadata": {
        "id": "0u7KCDXWtPAN"
      },
      "execution_count": null,
      "outputs": []
    },
    {
      "cell_type": "code",
      "source": [
        "#4: Rename this function to describe its purpose\n",
        "\n",
        "def gradient_descent (start_x, lr, n):\n",
        "  y = start_x\n",
        "  h = [y]\n",
        "  z = [quadraticFunc(y)]\n",
        "\n",
        "  for _ in range(n):\n",
        "    g = gradientComponent(y)\n",
        "    y = y - lr * g\n",
        "    h.append(y)\n",
        "    z.append(quadraticFunc(y))\n",
        "\n",
        "  return y, h, z\n",
        "\n"
      ],
      "metadata": {
        "id": "CyPn8VtU0XVH"
      },
      "execution_count": null,
      "outputs": []
    },
    {
      "cell_type": "code",
      "source": [
        "#5: Parameters\n",
        "\n",
        "start_x = 10\n",
        "\n",
        "#Rename this variable to describe its purpose\n",
        "learning_rate = 0.1\n",
        "\n",
        "num_iterations = 50\n",
        "\n",
        "#Perform gradient descent and minimize the cost function using specific parameters\n",
        "final_x, x_history, cost_history = gradient_descent(start_x, learning_rate, num_iterations)"
      ],
      "metadata": {
        "id": "rM0Rhtwm1Asq"
      },
      "execution_count": null,
      "outputs": []
    },
    {
      "cell_type": "code",
      "source": [
        "#6: Final converged result\n",
        "\n",
        "print(f\"The cost function rests here at a minimum cost of {quadraticFunc(final_x)} following {num_iterations} iterations of gradient descent.\")\n"
      ],
      "metadata": {
        "colab": {
          "base_uri": "https://localhost:8080/"
        },
        "id": "wMpS48oK2WCe",
        "outputId": "8ef2fe30-8392-4aea-bff9-13f7723f7c19"
      },
      "execution_count": null,
      "outputs": [
        {
          "output_type": "stream",
          "name": "stdout",
          "text": [
            "The cost function rests here at a minimum cost of 2.0370359763344873e-08 following 50 iterations of gradient descent.\n"
          ]
        }
      ]
    },
    {
      "cell_type": "code",
      "source": [
        "#7: What is being plotted, and what is missing\n",
        "\n",
        "print(f\"What is being plotted?\")\n",
        "print(f\"The gradient descent curve and the points that identify each iteration of descent is being plotted.\")\n",
        "print(f\" \")\n",
        "print(f\"What is missing?\")\n",
        "print(f\"The argument TRUE to enable the grid function\")\n",
        "print(f\" \")\n",
        "\n",
        "plt.figure(figsize=(10,6))\n",
        "plt.plot(range((num_iterations + 1)), cost_history, marker='o')\n",
        "plt.title('Gradient Descent Optimization')\n",
        "plt.xlabel('Iteration')\n",
        "plt.ylabel('Cost History')\n",
        "plt.grid(True)\n",
        "plt.show()"
      ],
      "metadata": {
        "colab": {
          "base_uri": "https://localhost:8080/",
          "height": 668
        },
        "id": "N68cnPUw21oW",
        "outputId": "f265523d-8563-41f7-cfc7-d3dce6cce301"
      },
      "execution_count": null,
      "outputs": [
        {
          "output_type": "stream",
          "name": "stdout",
          "text": [
            "What is being plotted?\n",
            "The gradient descent curve and the points that identify each iteration of descent is being plotted.\n",
            " \n",
            "What is missing?\n",
            "The argument TRUE to enable the grid function\n",
            " \n"
          ]
        },
        {
          "output_type": "display_data",
          "data": {
            "text/plain": [
              "<Figure size 1000x600 with 1 Axes>"
            ],
            "image/png": "[encoded data removed]"
          },
          "metadata": {}
        }
      ]
    },
    {
      "cell_type": "code",
      "source": [],
      "metadata": {
        "id": "J4fAWGXON6N5"
      },
      "execution_count": null,
      "outputs": []
    }
  ]
}